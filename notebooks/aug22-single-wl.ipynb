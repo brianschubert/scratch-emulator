{
 "cells": [
  {
   "cell_type": "markdown",
   "id": "a951a11148ec2f31",
   "metadata": {
    "collapsed": false
   },
   "source": []
  },
  {
   "cell_type": "markdown",
   "id": "8deb071201ed71fe",
   "metadata": {
    "collapsed": false
   },
   "source": [
    "# Aug 22 - Emulate Single Wavelength\n",
    "\n",
    "GP emulation of 6S for a fixed wavelength."
   ]
  },
  {
   "cell_type": "code",
   "execution_count": null,
   "id": "initial_id",
   "metadata": {
    "collapsed": true,
    "jupyter": {
     "outputs_hidden": true
    }
   },
   "outputs": [],
   "source": [
    "from typing import Final\n",
    "\n",
    "import alive_progress\n",
    "import matplotlib.pyplot as plt\n",
    "import numpy as np\n",
    "import rtm_wrapper.parameters as rtm_param\n",
    "import scipy.stats.qmc as sci_qmc\n",
    "import sklearn.gaussian_process as sklearn_gp\n",
    "import sklearn.pipeline\n",
    "import sklearn.preprocessing as sklearn_pre\n",
    "from rtm_wrapper.engines.sixs import PySixSEngine, pysixs_default_inputs\n",
    "from rtm_wrapper.execution import ConcurrentExecutor\n",
    "from rtm_wrapper.simulation import SweepSimulation\n",
    "\n",
    "\n",
    "def unit2range(arr: np.ndarray, bot: float, top: float) -> np.ndarray:\n",
    "    return arr * (top - bot) + bot"
   ]
  },
  {
   "cell_type": "markdown",
   "id": "5025f71fff519476",
   "metadata": {
    "collapsed": false
   },
   "source": [
    "## Set wavelength and input parameter ranges"
   ]
  },
  {
   "cell_type": "code",
   "execution_count": null,
   "id": "2c8aef7a9a61e9c0",
   "metadata": {
    "collapsed": false
   },
   "outputs": [],
   "source": [
    "# Fixed wavelength to simulate.\n",
    "WAVELENGTH: Final = 0.59  # micrometers\n",
    "\n",
    "# Atmosphere parameter ranges to simulate.\n",
    "OZONE_RANGE: Final = (0.25, 0.45)  # cm-atm\n",
    "WATER_RANGE: Final = (1, 4)  # g/cm^2\n",
    "AOT_RANGE: Final = (0.05, 0.5)  # 1"
   ]
  },
  {
   "cell_type": "markdown",
   "id": "d283bcdd6ff46f67",
   "metadata": {
    "collapsed": false
   },
   "source": [
    "# Run true 6S simulation\n",
    "\n",
    "## Sample atmosphere input ranges"
   ]
  },
  {
   "cell_type": "code",
   "execution_count": null,
   "id": "da3a3899549e4463",
   "metadata": {
    "collapsed": false
   },
   "outputs": [],
   "source": [
    "# Number of LHS samples to draw.\n",
    "NUM_SAMPLES: Final = 20\n",
    "\n",
    "# Draw LHS samples.\n",
    "rng = np.random.default_rng(2023_08_21)\n",
    "lhs_sampler = sci_qmc.LatinHypercube(d=3, seed=rng)\n",
    "raw_samples = lhs_sampler.random(NUM_SAMPLES)\n",
    "\n",
    "# Draw Poisson disk samples\n",
    "# pd_sampler = sci_qmc.PoissonDisk(d=2, seed=rng, radius=0.18)\n",
    "# raw_samples = pd_sampler.random(NUM_SAMPLES)\n",
    "# assert len(raw_samples) == NUM_SAMPLES, \"failed to draw enough samples - try decreasing radius\"\n",
    "\n",
    "# Rescale LHS samples to parameter ranges.\n",
    "ozone_samples = unit2range(raw_samples[:, 0], *OZONE_RANGE)\n",
    "water_samples = unit2range(raw_samples[:, 1], *WATER_RANGE)\n",
    "# aot_samples = unit2range(raw_samples[:, 1], *AOT_RANGE)"
   ]
  },
  {
   "cell_type": "markdown",
   "id": "cd68176760b202f7",
   "metadata": {
    "collapsed": false
   },
   "source": [
    "## Plot atmosphere input samples"
   ]
  },
  {
   "cell_type": "code",
   "execution_count": null,
   "id": "36e3f72e6000b72b",
   "metadata": {
    "collapsed": false
   },
   "outputs": [],
   "source": [
    "# fig, ax = plt.subplots(subplot_kw={\"projection\": \"3d\"}, figsize=(8,8))\n",
    "# ax.scatter(ozone_samples, water_samples, aot_samples)\n",
    "\n",
    "fig, ax = plt.subplots(figsize=(8, 6))\n",
    "# fig, ax = plt.subplots(subplot_kw={\"projection\": \"3d\"}, figsize=(8,8))\n",
    "ax.scatter(ozone_samples, water_samples)\n",
    "# ax.scatter(ozone_samples, water_samples, aot_samples)\n",
    "ax.set_xlim(OZONE_RANGE)\n",
    "ax.set_ylim(WATER_RANGE)\n",
    "# ax.set_zlim(AOT_RANGE)\n",
    "ax.set_xlabel(\"Ozone Column ($cm\\cdot atm$)\")\n",
    "ax.set_ylabel(\"Water Column ($g/cm^2$)\")\n",
    "# ax.set_zlabel(\"AOT\")\n",
    "ax.set_title(\"Atmosphere Input LHS Samples\")\n",
    "fig.tight_layout()"
   ]
  },
  {
   "cell_type": "markdown",
   "id": "8a45fbd6d9a214ff",
   "metadata": {
    "collapsed": false
   },
   "source": [
    "## Perform simulation"
   ]
  },
  {
   "cell_type": "code",
   "execution_count": null,
   "id": "a240c93659511c5c",
   "metadata": {
    "collapsed": false
   },
   "outputs": [],
   "source": [
    "sweep = SweepSimulation(\n",
    "    {\n",
    "        \"lhs\": {\n",
    "            \"atmosphere.ozone\": ozone_samples,\n",
    "            \"atmosphere.water\": water_samples,\n",
    "            # \"aerosol_profile.aot\": aot_samples,\n",
    "        },\n",
    "    },\n",
    "    base=pysixs_default_inputs().replace(\n",
    "        atmosphere=rtm_param.AtmosphereWaterOzone(),\n",
    "        # aerosol_profile=rtm_param.AerosolAOTSingleLayer(profile=\"Maritime\", height=5),\n",
    "        wavelength__value=WAVELENGTH,\n",
    "    ),\n",
    ")\n",
    "\n",
    "engine = PySixSEngine()\n",
    "runner = ConcurrentExecutor(max_workers=16)\n",
    "\n",
    "with alive_progress.alive_bar(sweep.sweep_size, force_tty=True) as bar:\n",
    "    runner.run(sweep, engine, step_callback=lambda _: bar())\n",
    "\n",
    "train_results = runner.collect_results()\n",
    "train_output = train_results.apparent_radiance\n",
    "\n",
    "display(train_results)"
   ]
  },
  {
   "cell_type": "markdown",
   "id": "72ec542f6a42cd32",
   "metadata": {
    "collapsed": false
   },
   "source": [
    "## Plot scatter of outputs at each input"
   ]
  },
  {
   "cell_type": "code",
   "execution_count": null,
   "id": "43ef4a48ba6ba7ce",
   "metadata": {
    "collapsed": false
   },
   "outputs": [],
   "source": [
    "color_source = train_output.values\n",
    "color = (color_source - color_source.min()) / (color_source.max() - color_source.min())\n",
    "\n",
    "# fig, ax =  plt.subplots(subplot_kw={\"projection\": \"3d\"}, figsize=(8,8))\n",
    "# art = ax.scatter(\n",
    "#     train_results.coords[\"atmosphere.ozone\"].values,\n",
    "#     train_results.coords[\"atmosphere.water\"].values,\n",
    "#     train_results.coords[\"aerosol_profile.aot\"].values,\n",
    "#     c=color,\n",
    "#     s=90,\n",
    "#     cmap=\"viridis\",\n",
    "# )\n",
    "fig, ax = plt.subplots(figsize=(8, 6))\n",
    "art = ax.scatter(\n",
    "    train_results.coords[\"atmosphere.ozone\"].values,\n",
    "    train_results.coords[\"atmosphere.water\"].values,\n",
    "    c=color,\n",
    "    s=90,\n",
    "    cmap=\"viridis\",\n",
    ")\n",
    "n_ticks = 7\n",
    "cbar = fig.colorbar(art, ticks=np.linspace(0, 1, n_ticks))\n",
    "cbar.ax.set_yticklabels(\n",
    "    np.round(np.linspace(color_source.min(), color_source.max(), n_ticks), 2)\n",
    ")\n",
    "ax.set_title(f\"Apparent Radiance of {WAVELENGTH*1000:.0f}nm\")\n",
    "ax.set_xlabel(\"Ozone Column ($cm-atm$)\")\n",
    "ax.set_ylabel(\"Water Column ($g/cm^2$)\")\n",
    "fig.tight_layout()"
   ]
  },
  {
   "cell_type": "markdown",
   "id": "bc78d2c30886cadf",
   "metadata": {
    "collapsed": false
   },
   "source": [
    "# Train Emulator"
   ]
  },
  {
   "cell_type": "markdown",
   "id": "31cd237f673434bc",
   "metadata": {
    "collapsed": false
   },
   "source": [
    "## Extract training arrays"
   ]
  },
  {
   "cell_type": "code",
   "execution_count": null,
   "id": "6551407caa36f4c3",
   "metadata": {
    "collapsed": false
   },
   "outputs": [],
   "source": [
    "x_train = np.stack(\n",
    "    [\n",
    "        train_results.coords[\"atmosphere.ozone\"].values,\n",
    "        train_results.coords[\"atmosphere.water\"].values,\n",
    "        # train_results.coords[\"aerosol_profile.aot\"].values,\n",
    "    ],\n",
    "    axis=-1,\n",
    ")\n",
    "y_train = train_output.values.reshape(-1, 1)\n",
    "print(f\"{x_train.shape=}, {y_train.shape=}\")"
   ]
  },
  {
   "cell_type": "markdown",
   "id": "f7b5d4dc1dc9d99b",
   "metadata": {
    "collapsed": false
   },
   "source": [
    "## Create GP model"
   ]
  },
  {
   "cell_type": "code",
   "execution_count": null,
   "id": "8188a1a3cc53dde9",
   "metadata": {
    "collapsed": false
   },
   "outputs": [],
   "source": [
    "kernel = 1.0 * sklearn_gp.kernels.RBF() # + sklearn_gp.kernels.WhiteKernel()\n",
    "gaussian_process = sklearn_gp.GaussianProcessRegressor(\n",
    "    kernel=kernel,\n",
    "    n_restarts_optimizer=20,\n",
    "    alpha=1e-2,\n",
    "    # alpha=1,\n",
    "    # Normalize targets to zero means, unit variance.\n",
    "    normalize_y=True,\n",
    ")\n",
    "\n",
    "pipeline = sklearn.pipeline.Pipeline(\n",
    "    [\n",
    "        # Rescale input features to [0, 1].\n",
    "        (\"scale\", sklearn_pre.MinMaxScaler()),\n",
    "        (\"gp\", gaussian_process),\n",
    "    ]\n",
    ")\n",
    "display(pipeline)\n",
    "display(pipeline.named_steps[\"gp\"].kernel.hyperparameters)"
   ]
  },
  {
   "cell_type": "markdown",
   "id": "944937c3d1ba9995",
   "metadata": {
    "collapsed": false
   },
   "source": [
    "## Fit model"
   ]
  },
  {
   "cell_type": "code",
   "execution_count": null,
   "id": "622b64565d3f9de7",
   "metadata": {
    "collapsed": false
   },
   "outputs": [],
   "source": [
    "pipeline.fit(x_train, y_train)\n",
    "display(pipeline.named_steps[\"gp\"].kernel_)"
   ]
  },
  {
   "cell_type": "markdown",
   "id": "e4758b89c3545d26",
   "metadata": {
    "collapsed": false
   },
   "source": [
    "## Plot marginal likelihood surface"
   ]
  },
  {
   "cell_type": "code",
   "execution_count": null,
   "id": "4b7de97209cb5273",
   "metadata": {
    "collapsed": false
   },
   "outputs": [],
   "source": [
    "# Extract fit hyperparameter values.\n",
    "fit_theta = pipeline.named_steps[\"gp\"].kernel_.theta\n",
    "\n",
    "# Indices of the two kernel hyperparameters to vary and plot MLL over. \n",
    "plot_hyper_idx = [0, 1]\n",
    "plot_hyper_names = [gaussian_process.kernel.hyperparameters[idx].name for idx in plot_hyper_idx]\n",
    "\n",
    "# Hyperparameter ranges to compute marginal likelihood over.\n",
    "# Natural log scaled, and centered about fit hyperparameter values found above.\n",
    "log_sweep_0 = np.log(10) * np.linspace(-4, 10, 50) + fit_theta[plot_hyper_idx[0]]\n",
    "log_sweep_1 = np.log(10) * np.linspace(-4, 4, 50) + fit_theta[plot_hyper_idx[1]]\n",
    "\n",
    "\n",
    "mesh_hyper_0, mesh_hyper_1 = np.meshgrid(log_sweep_0, log_sweep_1)\n",
    "# Preallocate array for likelihood at each hyperparameter combination.\n",
    "log_marginal_likelihoods = np.zeros(mesh_hyper_0.shape)\n",
    "\n",
    "# Compute MLL for each hyperparameter combination.\n",
    "for hyper_0, hyper_1, out in np.nditer(\n",
    "    [mesh_hyper_0, mesh_hyper_1, log_marginal_likelihoods],\n",
    "    op_flags=[[\"readonly\"], [\"readonly\"], [\"writeonly\"]],\n",
    "):\n",
    "    theta = fit_theta.copy()\n",
    "    theta[plot_hyper_idx[0]] = hyper_0\n",
    "    theta[plot_hyper_idx[1]] = hyper_1\n",
    "    out[...] = gaussian_process.log_marginal_likelihood(theta)\n",
    "\n",
    "# Plot MLL contours.\n",
    "fig, ax = plt.subplots()\n",
    "ax.set_xscale(\"log\")\n",
    "ax.set_yscale(\"log\")\n",
    "# Pick contour levels. Increase level density near max to better show peaks.\n",
    "peak_switch = np.percentile(log_marginal_likelihoods, 70)\n",
    "levels = np.hstack(\n",
    "    (\n",
    "        np.linspace(log_marginal_likelihoods.min(), peak_switch, 30)[:-1],\n",
    "        np.linspace(peak_switch, log_marginal_likelihoods.max(), 20),\n",
    "    )\n",
    ")\n",
    "# levels = 30\n",
    "art = ax.contour(\n",
    "    np.exp(mesh_hyper_0), np.exp(mesh_hyper_1), log_marginal_likelihoods, levels\n",
    ")\n",
    "ax.plot(*np.exp(fit_theta), \"x\")\n",
    "ax.set_xlabel(plot_hyper_names[0])\n",
    "ax.set_ylabel(plot_hyper_names[1])\n",
    "ax.set_title(\"Marginal Likelihood vs Hyperparameters\")\n",
    "fig.tight_layout()\n",
    "\n",
    "# Plot 3D MLL surface.\n",
    "fig, ax = plt.subplots(subplot_kw={\"projection\": \"3d\"}, figsize=(8, 8))\n",
    "ax.computed_zorder = False  # Prevent surface from hiding point, https://stackoverflow.com/q/51241367/11082165\n",
    "ax.view_init(elev=30, azim=-135)\n",
    "zlims = ax.get_zlim()\n",
    "ax.scatter(\n",
    "    [fit_theta[0] / np.log(10)],\n",
    "    [fit_theta[1] / np.log(10)],\n",
    "    [gaussian_process.log_marginal_likelihood(fit_theta)],\n",
    "    c=\"r\",\n",
    "    s=5,\n",
    "    zorder=2,\n",
    ")\n",
    "ax.plot_surface(\n",
    "    mesh_hyper_0 / np.log(10),\n",
    "    mesh_hyper_1 / np.log(10),\n",
    "    log_marginal_likelihoods,\n",
    "    # cmap=\"coolwarm\",\n",
    "    zorder=1,\n",
    ")\n",
    "ax.contour(\n",
    "    mesh_hyper_0 / np.log(10),\n",
    "    mesh_hyper_1 / np.log(10),\n",
    "    log_marginal_likelihoods,\n",
    "    levels=levels,\n",
    "    zorder=3,\n",
    ")\n",
    "\n",
    "ax.set_xlabel(f\"log10({plot_hyper_names[0]})\")\n",
    "ax.set_ylabel(f\"log10({plot_hyper_names[1]})\")\n",
    "fig.supylabel(\"log mll\")\n",
    "ax.set_title(\"Marginal Likelihood vs Hyperparameters\")\n",
    "fig.tight_layout()"
   ]
  },
  {
   "cell_type": "markdown",
   "id": "a66a5042b232afb5",
   "metadata": {
    "collapsed": false
   },
   "source": [
    "# Asses Emulator"
   ]
  },
  {
   "cell_type": "markdown",
   "id": "6c000cf8d246e3a2",
   "metadata": {
    "collapsed": false
   },
   "source": [
    "## Generate test data"
   ]
  },
  {
   "cell_type": "code",
   "execution_count": null,
   "id": "ee024357f5169f90",
   "metadata": {
    "collapsed": false
   },
   "outputs": [],
   "source": [
    "ozone_test = np.linspace(*OZONE_RANGE, 30)\n",
    "water_test = np.linspace(*WATER_RANGE, 31)"
   ]
  },
  {
   "cell_type": "markdown",
   "id": "620d93323b010415",
   "metadata": {
    "collapsed": false
   },
   "source": [
    "## Obtain actual sim results for test data"
   ]
  },
  {
   "cell_type": "code",
   "execution_count": null,
   "id": "37a925eb57ec95fd",
   "metadata": {
    "collapsed": false
   },
   "outputs": [],
   "source": [
    "sweep = SweepSimulation(\n",
    "    {\n",
    "        \"atmosphere.ozone\": ozone_test,\n",
    "        \"atmosphere.water\": water_test,\n",
    "    },\n",
    "    base=pysixs_default_inputs().replace(\n",
    "        atmosphere=rtm_param.AtmosphereWaterOzone(),\n",
    "        wavelength__value=WAVELENGTH,\n",
    "    ),\n",
    ")\n",
    "\n",
    "engine = PySixSEngine()\n",
    "runner = ConcurrentExecutor(max_workers=16)\n",
    "with alive_progress.alive_bar(sweep.sweep_size, force_tty=True) as bar:\n",
    "    runner.run(sweep, engine, step_callback=lambda _: bar())\n",
    "\n",
    "test_results = runner.collect_results()\n",
    "test_output = test_results.apparent_radiance\n",
    "\n",
    "display(test_output)"
   ]
  },
  {
   "cell_type": "markdown",
   "id": "90a71d903e678c22",
   "metadata": {
    "collapsed": false
   },
   "source": []
  },
  {
   "cell_type": "markdown",
   "id": "686174b713f59934",
   "metadata": {
    "collapsed": false
   },
   "source": [
    "## Extract test arrays"
   ]
  },
  {
   "cell_type": "code",
   "execution_count": null,
   "id": "8422dadaa06317aa",
   "metadata": {
    "collapsed": false
   },
   "outputs": [],
   "source": [
    "mesh_ozone, mesh_water = np.meshgrid(\n",
    "    test_results.coords[\"atmosphere.ozone\"].values,\n",
    "    test_results.coords[\"atmosphere.water\"].values,\n",
    "    indexing=\"ij\",\n",
    ")\n",
    "\n",
    "x_test = np.hstack((mesh_ozone.reshape(-1, 1), mesh_water.reshape(-1, 1)))\n",
    "y_test = test_output.values.reshape(-1, 1)\n",
    "\n",
    "print(f\"{x_test.shape=}, {y_test.shape=}\")"
   ]
  },
  {
   "cell_type": "markdown",
   "id": "211973260b130393",
   "metadata": {
    "collapsed": false
   },
   "source": [
    "## Evaluate model on test data"
   ]
  },
  {
   "cell_type": "code",
   "execution_count": null,
   "id": "aea8d4d490c81a16",
   "metadata": {
    "collapsed": false
   },
   "outputs": [],
   "source": [
    "pred_mean, pred_std = pipeline.predict(x_test, return_std=True)\n",
    "pred_error = y_test - pred_mean.reshape(-1, 1)\n",
    "\n",
    "pred_mean = pred_mean.reshape(mesh_ozone.shape)\n",
    "pred_std = pred_std.reshape(mesh_ozone.shape)\n",
    "pred_error = pred_error.reshape(mesh_ozone.shape)\n",
    "y_test_shaped = y_test.reshape(mesh_ozone.shape)"
   ]
  },
  {
   "cell_type": "markdown",
   "id": "5cc2b448d2e972c5",
   "metadata": {
    "collapsed": false
   },
   "source": [
    "## Compute metrics"
   ]
  },
  {
   "cell_type": "code",
   "execution_count": null,
   "id": "e64b065932796b89",
   "metadata": {
    "collapsed": false
   },
   "outputs": [],
   "source": [
    "rmse = np.sqrt(np.mean(pred_error**2))\n",
    "\n",
    "abs_error = np.abs(pred_error)\n",
    "\n",
    "print(f\"RMSE: {rmse:0.2f}\")\n",
    "print(f\"Avg abs err: {np.mean(abs_error):0.2f}\")\n",
    "print(f\"Max abs err: {np.max(abs_error):0.2f}\")\n",
    "print(f\"Avg rel err: {np.mean(abs_error/y_test_shaped):0.2%}\")\n",
    "print(f\"Max rel err: {np.max(abs_error/y_test_shaped):0.2%}\")"
   ]
  },
  {
   "cell_type": "markdown",
   "id": "f7ad86f6051242bf",
   "metadata": {
    "collapsed": false
   },
   "source": [
    "## Plot posterior mean, std, error"
   ]
  },
  {
   "cell_type": "code",
   "execution_count": null,
   "id": "29b0b929f7cf4062",
   "metadata": {
    "collapsed": false
   },
   "outputs": [],
   "source": [
    "fig, axs = plt.subplots(nrows=2, ncols=2, figsize=(8, 8), sharex=\"all\", sharey=\"all\")\n",
    "\n",
    "mesh_ozone, mesh_water = np.meshgrid(ozone_test, water_test, indexing=\"ij\")\n",
    "\n",
    "# Plot predicted mean surface.\n",
    "ax = axs[0, 0]\n",
    "art = ax.pcolormesh(mesh_ozone, mesh_water, pred_mean)\n",
    "ax.plot(\n",
    "    train_results.coords[\"atmosphere.ozone\"].values,\n",
    "    train_results.coords[\"atmosphere.water\"].values,\n",
    "    \"o\",\n",
    "    color=\"k\",\n",
    "    markerfacecolor=\"none\",\n",
    ")\n",
    "ax.set_title(\"Posterior Mean\")\n",
    "cbar = fig.colorbar(art)\n",
    "\n",
    "# Plot true output surface.\n",
    "ax = axs[0, 1]\n",
    "art = ax.pcolormesh(mesh_ozone, mesh_water, y_test_shaped)\n",
    "ax.plot(\n",
    "    train_results.coords[\"atmosphere.ozone\"].values,\n",
    "    train_results.coords[\"atmosphere.water\"].values,\n",
    "    \"o\",\n",
    "    color=\"k\",\n",
    "    markerfacecolor=\"none\",\n",
    ")\n",
    "ax.set_title(\"True Output\")\n",
    "fig.colorbar(art)\n",
    "\n",
    "# Plot predicted variance surface.\n",
    "ax = axs[1, 0]\n",
    "art = ax.pcolormesh(mesh_ozone, mesh_water, pred_std)\n",
    "ax.plot(\n",
    "    train_results.coords[\"atmosphere.ozone\"].values,\n",
    "    train_results.coords[\"atmosphere.water\"].values,\n",
    "    \"o\",\n",
    "    color=\"k\",\n",
    "    markerfacecolor=\"none\",\n",
    ")\n",
    "ax.set_title(\"Posterior Std\")\n",
    "fig.colorbar(art)\n",
    "\n",
    "# Plot error surface.\n",
    "ax = axs[1, 1]\n",
    "art = ax.pcolormesh(mesh_ozone, mesh_water, np.abs(pred_error))\n",
    "ax.plot(\n",
    "    train_results.coords[\"atmosphere.ozone\"].values,\n",
    "    train_results.coords[\"atmosphere.water\"].values,\n",
    "    \"o\",\n",
    "    color=\"k\",\n",
    "    markerfacecolor=\"none\",\n",
    ")\n",
    "ax.set_title(\"Abs. Error\")\n",
    "fig.colorbar(art)\n",
    "\n",
    "fig.supxlabel(\"Ozone Column ($cm\\cdot atm$)\")\n",
    "fig.supylabel(\"Water Column ($g/cm^2$)\")\n",
    "\n",
    "fig.tight_layout()"
   ]
  },
  {
   "cell_type": "code",
   "execution_count": null,
   "outputs": [],
   "source": [],
   "metadata": {
    "collapsed": false
   },
   "id": "23caed9aaefcf118"
  }
 ],
 "metadata": {
  "kernelspec": {
   "display_name": "Python 3 (ipykernel)",
   "language": "python",
   "name": "python3"
  },
  "language_info": {
   "codemirror_mode": {
    "name": "ipython",
    "version": 3
   },
   "file_extension": ".py",
   "mimetype": "text/x-python",
   "name": "python",
   "nbconvert_exporter": "python",
   "pygments_lexer": "ipython3",
   "version": "3.10.12"
  }
 },
 "nbformat": 4,
 "nbformat_minor": 5
}
