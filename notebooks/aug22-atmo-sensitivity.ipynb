{
 "cells": [
  {
   "cell_type": "markdown",
   "source": [
    "# Aug 22 - 6S Sensitivity \n",
    "\n",
    "Scratch for testing sensitivity of 6S outputs to atmospheric parameters."
   ],
   "metadata": {
    "collapsed": false
   },
   "id": "df023b40265ce756"
  },
  {
   "cell_type": "code",
   "execution_count": null,
   "outputs": [],
   "source": [
    "import alive_progress\n",
    "import matplotlib.pyplot as plt\n",
    "import numpy as np\n",
    "import rtm_wrapper.parameters as rtm_param\n",
    "import rtm_wrapper.plot as rtm_plot\n",
    "from rtm_wrapper.engines.sixs import PySixSEngine, pysixs_default_inputs\n",
    "from rtm_wrapper.execution import ConcurrentExecutor\n",
    "from rtm_wrapper.simulation import SweepSimulation"
   ],
   "metadata": {
    "collapsed": false
   },
   "id": "cd5043eea0fc3aef"
  },
  {
   "cell_type": "markdown",
   "source": [
    "## Define input parameter ranges. "
   ],
   "metadata": {
    "collapsed": false
   },
   "id": "c882e9618537396a"
  },
  {
   "cell_type": "code",
   "execution_count": null,
   "outputs": [],
   "source": [
    "wavelengths = np.arange(0.4, 0.7, 0.0025)\n",
    "# wavelengths = np.arange(0.58, 0.6, 0.0025)\n",
    "# wavelengths = np.arange(0.62, 0.64, 0.0025)\n",
    "# wavelengths = np.arange(0.65, 0.66, 0.0025)\n",
    "ozone_range = (0.25, 0.45)  # cm-atm\n",
    "water_range = (1, 4)  # g/cm^2\n",
    "aot_range = (0.05, 0.5)"
   ],
   "metadata": {
    "collapsed": false
   },
   "id": "ee8dfc3c9ad73052"
  },
  {
   "cell_type": "markdown",
   "source": [
    "## Run simulations"
   ],
   "metadata": {
    "collapsed": false
   },
   "id": "fcc66b568614177e"
  },
  {
   "cell_type": "code",
   "execution_count": null,
   "id": "19716c4db54ed5b",
   "metadata": {
    "collapsed": true
   },
   "outputs": [],
   "source": [
    "sweeps = {\n",
    "    \"ozone\": SweepSimulation(\n",
    "        {\n",
    "            \"wavelength.value\": wavelengths,\n",
    "            \"atmosphere.ozone\": np.arange(*ozone_range, 0.025),\n",
    "        },\n",
    "        base=pysixs_default_inputs().replace(\n",
    "            atmosphere=rtm_param.AtmosphereWaterOzone(water=np.mean(water_range))\n",
    "        ),\n",
    "    ),\n",
    "    \"water\": SweepSimulation(\n",
    "        {\n",
    "            \"wavelength.value\": wavelengths,\n",
    "            \"atmosphere.water\": np.arange(*water_range, 0.25),\n",
    "        },\n",
    "        base=pysixs_default_inputs().replace(\n",
    "            atmosphere=rtm_param.AtmosphereWaterOzone(ozone=np.mean(ozone_range))\n",
    "        ),\n",
    "    ),\n",
    "    \"aot\": SweepSimulation(\n",
    "        {\n",
    "            \"wavelength.value\": wavelengths,\n",
    "            \"aerosol_profile.aot\": np.arange(*aot_range, 0.05),\n",
    "        },\n",
    "        base=pysixs_default_inputs().replace(\n",
    "            aerosol_profile=rtm_param.AerosolAOTSingleLayer(\n",
    "                profile=\"Maritime\",\n",
    "                height=100,\n",
    "            ),\n",
    "        ),\n",
    "    ),\n",
    "    \"altitude\": SweepSimulation(\n",
    "        {\n",
    "            \"wavelength.value\": wavelengths,\n",
    "            \"altitude_target.value\": [*np.logspace(-1, np.log10(81), 10)],\n",
    "        },\n",
    "        base=pysixs_default_inputs().replace(\n",
    "            aerosol_profile=rtm_param.AerosolAOTSingleLayer(\n",
    "                profile=\"Maritime\",\n",
    "                aot=0.3,\n",
    "                height=100,\n",
    "            ),\n",
    "            altitude_target=rtm_param.AltitudeKilometers(),\n",
    "        ),\n",
    "    ),\n",
    "}\n",
    "\n",
    "engine = PySixSEngine()\n",
    "runner = ConcurrentExecutor()\n",
    "\n",
    "results = {}\n",
    "for name, sweep in sweeps.items():\n",
    "    with alive_progress.alive_bar(sweep.sweep_size, force_tty=True) as bar:\n",
    "        runner.run(sweep, engine, step_callback=lambda _: bar())\n",
    "    results[name] = runner.collect_results()"
   ]
  },
  {
   "cell_type": "markdown",
   "source": [
    "## Plot results"
   ],
   "metadata": {
    "collapsed": false
   },
   "id": "18c7aae9ff588bd"
  },
  {
   "cell_type": "code",
   "execution_count": null,
   "outputs": [],
   "source": [
    "fig, axs = plt.subplots(nrows=len(results), figsize=(8, 20))\n",
    "\n",
    "for (name, output), ax in zip(results.items(), axs.flat):\n",
    "    ax.set_prop_cycle(\n",
    "        color=plt.cm.viridis(np.linspace(0, 1, list(output.sizes.values())[-1]))\n",
    "    )\n",
    "\n",
    "    rtm_plot.plot_sweep_legend(\n",
    "        output.total_transmission,\n",
    "        ax=ax,\n",
    "        xaxis_dim=\"wavelength.value\",\n",
    "        legend_kwargs={\"loc\": \"lower left\", \"ncol\": 2},\n",
    "    )\n",
    "    ax.set_title(f\"{name.capitalize()} Sensitivity\")\n",
    "    ax.grid(True)"
   ],
   "metadata": {
    "collapsed": false
   },
   "id": "initial_id"
  }
 ],
 "metadata": {
  "kernelspec": {
   "display_name": "Python 3",
   "language": "python",
   "name": "python3"
  },
  "language_info": {
   "codemirror_mode": {
    "name": "ipython",
    "version": 2
   },
   "file_extension": ".py",
   "mimetype": "text/x-python",
   "name": "python",
   "nbconvert_exporter": "python",
   "pygments_lexer": "ipython2",
   "version": "2.7.6"
  }
 },
 "nbformat": 4,
 "nbformat_minor": 5
}
